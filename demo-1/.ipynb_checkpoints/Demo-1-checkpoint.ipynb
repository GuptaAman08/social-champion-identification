{
 "cells": [
  {
   "cell_type": "markdown",
   "metadata": {},
   "source": [
    "# Before we begin..."
   ]
  },
  {
   "cell_type": "markdown",
   "metadata": {},
   "source": [
    "For this demonstration, we are evaluating the candidate Bill Gates. We have been given the Twitter account handle and the NGO's area of interest(s).\n",
    "\n",
    "We will visualize the features of the candidate's Twitter profile and assess all data that can be immediately gained from the metadata returned by the Twitter API.\n",
    "\n",
    "Using NLP, we will perform topic analysis on the candidate's tweet corpus and view the relevance of the candidate's tweets with our model which is trained on the NASW twitter account.\n",
    "\n",
    "Elasticsearch is a search engine which will query the NGO's area of interest(s) on our model and find matches to topics in our trained model. We will then check the relevance of that topic with that of the candidate and its priority in terms of what the candidate has been talking about.\n",
    "\n",
    "We will evaluate all the features of the candidate on the trained model and predict the labels for each tweet. The labels can then be plotted to visualize their variance."
   ]
  },
  {
   "cell_type": "markdown",
   "metadata": {},
   "source": [
    "### Importing necessary modules"
   ]
  },
  {
   "cell_type": "code",
   "execution_count": 7,
   "metadata": {},
   "outputs": [
    {
     "name": "stdout",
     "output_type": "stream",
     "text": [
      "\n",
      "All application modules imported\n"
     ]
    }
   ],
   "source": [
    "import tweepy\n",
    "import pickle\n",
    "import os\n",
    "import re\n",
    "import numpy as np\n",
    "import pandas as pd\n",
    "import matplotlib.pyplot as plt\n",
    "import seaborn as sns\n",
    "%matplotlib inline\n",
    "from credentials import *\n",
    "from elasticsearch import Elasticsearch\n",
    "import gensim\n",
    "import pyLDAvis.gensim\n",
    "\n",
    "print(\"\\nAll application modules imported\")"
   ]
  },
  {
   "cell_type": "code",
   "execution_count": 5,
   "metadata": {},
   "outputs": [],
   "source": [
    "auth = tweepy.OAuthHandler(consumer_key, consumer_secret)\n",
    "auth.set_access_token(access_token, access_token_secret)\n",
    "\n",
    "api = tweepy.API(auth)\n",
    "user = api.get_user(\"BillGates\")\n",
    "\n",
    "print(\"\\nTwitter access authorized and \")"
   ]
  },
  {
   "cell_type": "code",
   "execution_count": 9,
   "metadata": {},
   "outputs": [
    {
     "name": "stdout",
     "output_type": "stream",
     "text": [
      "\n",
      "Candidate has 42650369 followers and 20 friends\n",
      "\n",
      "\n",
      "Creating and loading a dataframe of the candidate's tweets: \n"
     ]
    },
    {
     "data": {
      "text/html": [
       "<div>\n",
       "<style scoped>\n",
       "    .dataframe tbody tr th:only-of-type {\n",
       "        vertical-align: middle;\n",
       "    }\n",
       "\n",
       "    .dataframe tbody tr th {\n",
       "        vertical-align: top;\n",
       "    }\n",
       "\n",
       "    .dataframe thead th {\n",
       "        text-align: right;\n",
       "    }\n",
       "</style>\n",
       "<table border=\"1\" class=\"dataframe\">\n",
       "  <thead>\n",
       "    <tr style=\"text-align: right;\">\n",
       "      <th></th>\n",
       "      <th>tweet</th>\n",
       "      <th>len</th>\n",
       "      <th>id</th>\n",
       "      <th>date</th>\n",
       "      <th>source</th>\n",
       "      <th>likes</th>\n",
       "      <th>retweets</th>\n",
       "      <th>geo</th>\n",
       "    </tr>\n",
       "  </thead>\n",
       "  <tbody>\n",
       "    <tr>\n",
       "      <th>0</th>\n",
       "      <td>I’m optimistic we can stop climate change and ...</td>\n",
       "      <td>182</td>\n",
       "      <td>944234884213620736</td>\n",
       "      <td>2017-12-22 15:55:14</td>\n",
       "      <td>Media Studio</td>\n",
       "      <td>2078</td>\n",
       "      <td>585</td>\n",
       "      <td>None</td>\n",
       "    </tr>\n",
       "    <tr>\n",
       "      <th>1</th>\n",
       "      <td>Melinda and I have been working for some time ...</td>\n",
       "      <td>280</td>\n",
       "      <td>943535658923995137</td>\n",
       "      <td>2017-12-20 17:36:45</td>\n",
       "      <td>Twitter Web Client</td>\n",
       "      <td>6514</td>\n",
       "      <td>1165</td>\n",
       "      <td>None</td>\n",
       "    </tr>\n",
       "    <tr>\n",
       "      <th>2</th>\n",
       "      <td>I appreciate how thoughtful my friend @RayDali...</td>\n",
       "      <td>210</td>\n",
       "      <td>943235443885187072</td>\n",
       "      <td>2017-12-19 21:43:48</td>\n",
       "      <td>Twitter Web Client</td>\n",
       "      <td>2690</td>\n",
       "      <td>399</td>\n",
       "      <td>None</td>\n",
       "    </tr>\n",
       "    <tr>\n",
       "      <th>3</th>\n",
       "      <td>9/ These tweets made me feel better about 2017...</td>\n",
       "      <td>167</td>\n",
       "      <td>943131672014229509</td>\n",
       "      <td>2017-12-19 14:51:27</td>\n",
       "      <td>Twitter Web Client</td>\n",
       "      <td>7873</td>\n",
       "      <td>915</td>\n",
       "      <td>None</td>\n",
       "    </tr>\n",
       "    <tr>\n",
       "      <th>4</th>\n",
       "      <td>8/ Here’s my own extreme submission to the cha...</td>\n",
       "      <td>93</td>\n",
       "      <td>943131670202298368</td>\n",
       "      <td>2017-12-19 14:51:27</td>\n",
       "      <td>Twitter Web Client</td>\n",
       "      <td>6280</td>\n",
       "      <td>632</td>\n",
       "      <td>None</td>\n",
       "    </tr>\n",
       "  </tbody>\n",
       "</table>\n",
       "</div>"
      ],
      "text/plain": [
       "                                               tweet  len                  id  \\\n",
       "0  I’m optimistic we can stop climate change and ...  182  944234884213620736   \n",
       "1  Melinda and I have been working for some time ...  280  943535658923995137   \n",
       "2  I appreciate how thoughtful my friend @RayDali...  210  943235443885187072   \n",
       "3  9/ These tweets made me feel better about 2017...  167  943131672014229509   \n",
       "4  8/ Here’s my own extreme submission to the cha...   93  943131670202298368   \n",
       "\n",
       "                 date              source  likes  retweets   geo  \n",
       "0 2017-12-22 15:55:14        Media Studio   2078       585  None  \n",
       "1 2017-12-20 17:36:45  Twitter Web Client   6514      1165  None  \n",
       "2 2017-12-19 21:43:48  Twitter Web Client   2690       399  None  \n",
       "3 2017-12-19 14:51:27  Twitter Web Client   7873       915  None  \n",
       "4 2017-12-19 14:51:27  Twitter Web Client   6280       632  None  "
      ]
     },
     "execution_count": 9,
     "metadata": {},
     "output_type": "execute_result"
    }
   ],
   "source": [
    "save = \"gates_df.pickle\"\n",
    "\n",
    "with open(save, 'rb') as f:\n",
    "    data = pickle.load(f)\n",
    "    \n",
    "followers = user.followers_count\n",
    "\n",
    "friends = 0\n",
    "for friend in user.friends():\n",
    "    friends += 1\n",
    "print(\"\\nCandidate has\",followers,\"followers and\",friends,\"friends\\n\")\n",
    "\n",
    "print(\"\\nCreating and loading a dataframe of the candidate's tweets: \")\n",
    "data.head()"
   ]
  },
  {
   "cell_type": "code",
   "execution_count": 10,
   "metadata": {},
   "outputs": [
    {
     "name": "stdout",
     "output_type": "stream",
     "text": [
      "Creation of content sources:\n",
      "* Media Studio\n",
      "* Twitter Web Client\n",
      "* Twitter for Windows\n",
      "* Twitter Lite\n",
      "* Sprinklr\n",
      "* Twitter Ads\n",
      "* Twitter for Windows Phone\n",
      "* Hootsuite\n"
     ]
    }
   ],
   "source": [
    "# sources\n",
    "\n",
    "sources = []\n",
    "for source in data['source']:\n",
    "    if source not in sources:\n",
    "        sources.append(source)\n",
    "        \n",
    "# sources = [re.sub(r\"</?.*?>\",\"\",source) for source in sources]\n",
    "        \n",
    "# We print sources list:\n",
    "print(\"Creation of content sources:\")\n",
    "for source in sources:\n",
    "    print(\"* {}\".format(source))"
   ]
  },
  {
   "cell_type": "code",
   "execution_count": null,
   "metadata": {},
   "outputs": [],
   "source": []
  }
 ],
 "metadata": {
  "kernelspec": {
   "display_name": "Python 3",
   "language": "python",
   "name": "python3"
  },
  "language_info": {
   "codemirror_mode": {
    "name": "ipython",
    "version": 3
   },
   "file_extension": ".py",
   "mimetype": "text/x-python",
   "name": "python",
   "nbconvert_exporter": "python",
   "pygments_lexer": "ipython3",
   "version": "3.6.3"
  }
 },
 "nbformat": 4,
 "nbformat_minor": 2
}
