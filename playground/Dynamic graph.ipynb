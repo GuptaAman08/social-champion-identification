{
 "cells": [
  {
   "cell_type": "code",
   "execution_count": 1,
   "metadata": {},
   "outputs": [],
   "source": [
    "import tweepy\n",
    "import time\n",
    "import networkx as nx\n",
    "import pandas as pd\n",
    "import json\n",
    "import numpy as np\n",
    "import requests\n",
    "from bs4 import BeautifulSoup\n",
    "from twitterscraper import query_tweets\n",
    "from datetime import datetime\n",
    "from networkx.readwrite import json_graph\n",
    "%matplotlib inline\n",
    "\n"
   ]
  },
  {
   "cell_type": "code",
   "execution_count": 2,
   "metadata": {},
   "outputs": [],
   "source": [
    "consumer_key = \"2e6dNamYAUwvPcLJ5YKn9ow6R\"\n",
    "consumer_secret = \"VFujaQNDkF6d7YKrTttJzMhCfNpFcYCnMyDSvjGssEvq4WYvnm\"\n",
    "access_token = \"939149568519815169-c6Lti1dhyk5Z8wmwymsrpvw1BtxVE0Z\"\n",
    "access_token_secret = \"IaQwQlN3yrkoZsB5nzi8Ha2AO1TseVdLcPJgltP6ljZiI\"   \n",
    "\n",
    "auth = tweepy.OAuthHandler(consumer_key, consumer_secret)\n",
    "auth.set_access_token(access_token, access_token_secret)\n",
    "api = tweepy.API(auth, wait_on_rate_limit=True, wait_on_rate_limit_notify=True)"
   ]
  },
  {
   "cell_type": "code",
   "execution_count": 83,
   "metadata": {},
   "outputs": [],
   "source": [
    "res = api.get_user('nasw')"
   ]
  },
  {
   "cell_type": "code",
   "execution_count": 84,
   "metadata": {},
   "outputs": [],
   "source": [
    "G = nx.DiGraph()\n",
    "G.add_node(res.id, attr_dict = {'status_count': res.statuses_count, 'screen_name': res.screen_name})"
   ]
  },
  {
   "cell_type": "code",
   "execution_count": 85,
   "metadata": {},
   "outputs": [
    {
     "data": {
      "text/plain": [
       "NodeDataView({17869267: {'attr_dict': {'status_count': 7534, 'screen_name': 'nasw'}}})"
      ]
     },
     "execution_count": 85,
     "metadata": {},
     "output_type": "execute_result"
    }
   ],
   "source": [
    "G.nodes(data=True)"
   ]
  },
  {
   "cell_type": "code",
   "execution_count": 98,
   "metadata": {},
   "outputs": [],
   "source": [
    "res = api.get_user('nasw')"
   ]
  },
  {
   "cell_type": "code",
   "execution_count": 105,
   "metadata": {},
   "outputs": [],
   "source": [
    "G = nx.DiGraph()\n",
    "G.add_node(res.id, attr_dict = {'status_count': res.statuses_count, 'screen_name': res.screen_name})"
   ]
  },
  {
   "cell_type": "code",
   "execution_count": 106,
   "metadata": {},
   "outputs": [],
   "source": [
    "handles = [\"Dr_Faustino\", \"epflcswccm\", \"HarmonicFamily\", \"SocialWorkItOut\", \"cheryl_aguilar\"]\n",
    "with open(\"followers2.txt\", \"w\") as file:\n",
    "    for handle in handles:\n",
    "        user = api.get_user(handle)\n",
    "        G.add_node(user.id, attr_dict = {'status_count': user.statuses_count, 'screen_name': user.screen_name})\n",
    "        file.write(str(user.id) + '\\t' + str(res.id) + '\\n')"
   ]
  },
  {
   "cell_type": "code",
   "execution_count": 112,
   "metadata": {},
   "outputs": [],
   "source": [
    "def get_network(filename, G2=None):\n",
    "    G = nx.read_edgelist(filename, create_using=nx.DiGraph(), nodetype=int)\n",
    "    if G2 != None:\n",
    "        G = nx.compose(G, G2)\n",
    "    return G"
   ]
  },
  {
   "cell_type": "code",
   "execution_count": 117,
   "metadata": {},
   "outputs": [],
   "source": [
    "G = get_network('followers2.txt', G)"
   ]
  },
  {
   "cell_type": "code",
   "execution_count": 121,
   "metadata": {},
   "outputs": [
    {
     "data": {
      "text/plain": [
       "NodeDataView({241400800: {'attr_dict': {'status_count': 1320, 'screen_name': 'SocialWorkItOut'}}, 17869267: {'attr_dict': {'status_count': 7534, 'screen_name': 'nasw'}}, 26420085: {'attr_dict': {'status_count': 8863, 'screen_name': 'cheryl_aguilar'}}, 47505197: {'attr_dict': {'status_count': 2556, 'screen_name': 'Dr_Faustino'}}, 159073678: {'attr_dict': {'status_count': 16397, 'screen_name': 'epflcswccm'}}, 193075453: {'attr_dict': {'status_count': 3861, 'screen_name': 'HarmonicFamily'}}})"
      ]
     },
     "execution_count": 121,
     "metadata": {},
     "output_type": "execute_result"
    }
   ],
   "source": [
    "G.nodes(data=True)"
   ]
  },
  {
   "cell_type": "code",
   "execution_count": 43,
   "metadata": {},
   "outputs": [],
   "source": [
    "def fetchGraph(screen_name, max_tweets,max_retweets):\n",
    "    res = api.get_user(screen_name)\n",
    "    G = nx.DiGraph()\n",
    "    G.add_node(res.id, attr_dict = {'status_count': res.statuses_count, 'screen_name': res.screen_name})\n",
    "    for tweet in tweepy.Cursor(api.user_timeline, id=res.id).items(max_tweets):\n",
    "        retweets = api.retweets(id=tweet.id, count=max_retweets)\n",
    "        for retweet in retweets:\n",
    "            retweet_id = retweet.user.id\n",
    "            G.add_node(retweet_id, attr_dict = {'status_count': retweet.user.statuses_count, \n",
    "                                                         'screen_name': retweet.user.screen_name})\n",
    "            if G.has_edge(retweet_id, res.id):\n",
    "                G.add_edge(retweet_id, res.id, weight=G[retweet_id][res.id]['weight'] + 1)\n",
    "            else:\n",
    "                G.add_edge(retweet_id, res.id, weight=1)\n",
    "    print(len(G.nodes()))\n",
    "    return G\n",
    "            \n",
    "            "
   ]
  },
  {
   "cell_type": "code",
   "execution_count": 47,
   "metadata": {},
   "outputs": [
    {
     "name": "stdout",
     "output_type": "stream",
     "text": [
      "Rate limit reached. Sleeping for: 636\n",
      "55\n"
     ]
    }
   ],
   "source": [
    "G = fetchGraph('nasw', 100, 50)"
   ]
  },
  {
   "cell_type": "code",
   "execution_count": 48,
   "metadata": {},
   "outputs": [
    {
     "data": {
      "text/plain": [
       "OutEdgeDataView([(770412243095658496, 17869267, {'weight': 100}), (702288726546735104, 17869267, {'weight': 100}), (931899603858927618, 17869267, {'weight': 100}), (898301089820364804, 17869267, {'weight': 100}), (743469564625752064, 17869267, {'weight': 100}), (754055663236419585, 17869267, {'weight': 100}), (263474444, 17869267, {'weight': 100}), (975865357, 17869267, {'weight': 100}), (2250262670, 17869267, {'weight': 100}), (3094761492, 17869267, {'weight': 100}), (2758789909, 17869267, {'weight': 88}), (2946901143, 17869267, {'weight': 100}), (216039108, 17869267, {'weight': 100}), (246364828, 17869267, {'weight': 35}), (60331933, 17869267, {'weight': 65}), (899276532950204417, 17869267, {'weight': 65}), (767952194108653568, 17869267, {'weight': 100}), (1468131488, 17869267, {'weight': 35}), (1401470755, 17869267, {'weight': 100}), (744735996391002113, 17869267, {'weight': 65}), (2211542150, 17869267, {'weight': 100}), (614056227, 17869267, {'weight': 100}), (852462506, 17869267, {'weight': 100}), (831343752342024192, 17869267, {'weight': 100}), (3060760237, 17869267, {'weight': 100}), (722107377810554880, 17869267, {'weight': 100}), (403010994, 17869267, {'weight': 100}), (91764660, 17869267, {'weight': 100}), (2796648246, 17869267, {'weight': 100}), (3434071738, 17869267, {'weight': 65}), (2254364732, 17869267, {'weight': 100}), (573216447, 17869267, {'weight': 100}), (82274880, 17869267, {'weight': 35}), (873091848796913666, 17869267, {'weight': 100}), (292545476, 17869267, {'weight': 100}), (411974731, 17869267, {'weight': 100}), (4815824722, 17869267, {'weight': 100}), (1480786772, 17869267, {'weight': 100}), (4231027157, 17869267, {'weight': 35}), (726635229226524672, 17869267, {'weight': 100}), (297073368, 17869267, {'weight': 100}), (59604698, 17869267, {'weight': 100}), (3370898530, 17869267, {'weight': 65}), (3823119973, 17869267, {'weight': 12}), (949780004866482176, 17869267, {'weight': 65}), (2329215082, 17869267, {'weight': 65}), (756187492441817088, 17869267, {'weight': 35}), (748256701128839169, 17869267, {'weight': 35}), (1718762490, 17869267, {'weight': 100}), (906361409075900416, 17869267, {'weight': 100}), (1601487356, 17869267, {'weight': 100}), (2890423082, 17869267, {'weight': 100}), (212265214, 17869267, {'weight': 100}), (837310543308312578, 17869267, {'weight': 100})])"
      ]
     },
     "execution_count": 48,
     "metadata": {},
     "output_type": "execute_result"
    }
   ],
   "source": [
    "G.edges(data=True)"
   ]
  },
  {
   "cell_type": "code",
   "execution_count": 15,
   "metadata": {},
   "outputs": [],
   "source": [
    "def saveGraph(G, filename):\n",
    "    data = json_graph.node_link_data(G)\n",
    "    json_data = json.dumps(data)\n",
    "    with open(filename, 'w') as file:\n",
    "        file.write(json_data)"
   ]
  },
  {
   "cell_type": "code",
   "execution_count": 50,
   "metadata": {},
   "outputs": [],
   "source": [
    "saveGraph(G, 'retweetfriendGraph.json')"
   ]
  },
  {
   "cell_type": "code",
   "execution_count": 3,
   "metadata": {},
   "outputs": [
    {
     "name": "stdout",
     "output_type": "stream",
     "text": [
      "Status(id=957621880877408256, retweet_count=10, geo=None, coordinates=None, in_reply_to_screen_name=None, created_at=datetime.datetime(2018, 1, 28, 14, 30, 22), in_reply_to_user_id_str=None, _json={'retweet_count': 10, 'geo': None, 'coordinates': None, 'in_reply_to_screen_name': None, 'created_at': 'Sun Jan 28 14:30:22 +0000 2018', 'in_reply_to_user_id_str': None, 'in_reply_to_status_id_str': None, 'extended_entities': {'media': [{'id': 957621878167953413, 'expanded_url': 'https://twitter.com/nasw/status/957621880877408256/photo/1', 'url': 'https://t.co/dS8l83ANA6', 'media_url_https': 'https://pbs.twimg.com/media/DUooBkVX4AUw-tI.jpg', 'indices': [110, 133], 'display_url': 'pic.twitter.com/dS8l83ANA6', 'media_url': 'http://pbs.twimg.com/media/DUooBkVX4AUw-tI.jpg', 'type': 'photo', 'id_str': '957621878167953413', 'sizes': {'small': {'h': 339, 'w': 671, 'resize': 'fit'}, 'large': {'h': 339, 'w': 671, 'resize': 'fit'}, 'thumb': {'h': 150, 'w': 150, 'resize': 'crop'}, 'medium': {'h': 339, 'w': 671, 'resize': 'fit'}}}]}, 'source': '<a href=\"http://www.hootsuite.com\" rel=\"nofollow\">Hootsuite</a>', 'is_quote_status': False, 'favorited': False, 'id': 957621880877408256, 'possibly_sensitive': False, 'id_str': '957621880877408256', 'entities': {'media': [{'id': 957621878167953413, 'expanded_url': 'https://twitter.com/nasw/status/957621880877408256/photo/1', 'url': 'https://t.co/dS8l83ANA6', 'media_url_https': 'https://pbs.twimg.com/media/DUooBkVX4AUw-tI.jpg', 'indices': [110, 133], 'display_url': 'pic.twitter.com/dS8l83ANA6', 'media_url': 'http://pbs.twimg.com/media/DUooBkVX4AUw-tI.jpg', 'type': 'photo', 'id_str': '957621878167953413', 'sizes': {'small': {'h': 339, 'w': 671, 'resize': 'fit'}, 'large': {'h': 339, 'w': 671, 'resize': 'fit'}, 'thumb': {'h': 150, 'w': 150, 'resize': 'crop'}, 'medium': {'h': 339, 'w': 671, 'resize': 'fit'}}}], 'urls': [{'display_url': 'bit.ly/2CX95oE', 'indices': [86, 109], 'expanded_url': 'http://bit.ly/2CX95oE', 'url': 'https://t.co/SSNw7G0c4K'}], 'user_mentions': [], 'symbols': [], 'hashtags': []}, 'text': \"Don't forget! Registration has started for the 2018 NASW National Conference in June: https://t.co/SSNw7G0c4K https://t.co/dS8l83ANA6\", 'lang': 'en', 'truncated': False, 'place': None, 'user': {'listed_count': 780, 'notifications': False, 'profile_text_color': '333333', 'is_translator': False, 'profile_sidebar_fill_color': 'F2FAFA', 'profile_link_color': '175454', 'verified': False, 'created_at': 'Thu Dec 04 15:04:29 +0000 2008', 'protected': False, 'has_extended_profile': False, 'friends_count': 3933, 'favourites_count': 3176, 'followers_count': 40647, 'following': False, 'contributors_enabled': False, 'time_zone': 'Eastern Time (US & Canada)', 'translator_type': 'none', 'screen_name': 'nasw', 'utc_offset': -18000, 'default_profile': False, 'location': 'Washington, DC', 'name': 'NASW', 'profile_background_tile': False, 'profile_background_image_url_https': 'https://pbs.twimg.com/profile_background_images/99022819/back3.jpg', 'follow_request_sent': False, 'description': \"NASW's Official Twitter Feed - National Association of Social Workers, National Office, Washington DC\", 'profile_image_url_https': 'https://pbs.twimg.com/profile_images/620676467899305984/Zi55Nqn__normal.jpg', 'profile_banner_url': 'https://pbs.twimg.com/profile_banners/17869267/1436879565', 'id_str': '17869267', 'entities': {'url': {'urls': [{'display_url': 'socialworkers.org', 'indices': [0, 22], 'expanded_url': 'http://www.socialworkers.org', 'url': 'http://t.co/56js65G1pZ'}]}, 'description': {'urls': []}}, 'profile_background_image_url': 'http://pbs.twimg.com/profile_background_images/99022819/back3.jpg', 'lang': 'en', 'id': 17869267, 'url': 'http://t.co/56js65G1pZ', 'profile_background_color': '53ACB8', 'default_profile_image': False, 'profile_image_url': 'http://pbs.twimg.com/profile_images/620676467899305984/Zi55Nqn__normal.jpg', 'profile_use_background_image': True, 'is_translation_enabled': False, 'profile_sidebar_border_color': 'EEEEEE', 'geo_enabled': False, 'statuses_count': 7534}, 'in_reply_to_user_id': None, 'favorite_count': 14, 'in_reply_to_status_id': None, 'contributors': None, 'retweeted': False}, extended_entities={'media': [{'id': 957621878167953413, 'expanded_url': 'https://twitter.com/nasw/status/957621880877408256/photo/1', 'url': 'https://t.co/dS8l83ANA6', 'media_url_https': 'https://pbs.twimg.com/media/DUooBkVX4AUw-tI.jpg', 'indices': [110, 133], 'display_url': 'pic.twitter.com/dS8l83ANA6', 'media_url': 'http://pbs.twimg.com/media/DUooBkVX4AUw-tI.jpg', 'type': 'photo', 'id_str': '957621878167953413', 'sizes': {'small': {'h': 339, 'w': 671, 'resize': 'fit'}, 'large': {'h': 339, 'w': 671, 'resize': 'fit'}, 'thumb': {'h': 150, 'w': 150, 'resize': 'crop'}, 'medium': {'h': 339, 'w': 671, 'resize': 'fit'}}}]}, is_quote_status=False, _api=<tweepy.api.API object at 0x7fb88ce96908>, favorited=False, source='Hootsuite', in_reply_to_user_id=None, possibly_sensitive=False, id_str='957621880877408256', entities={'media': [{'id': 957621878167953413, 'expanded_url': 'https://twitter.com/nasw/status/957621880877408256/photo/1', 'url': 'https://t.co/dS8l83ANA6', 'media_url_https': 'https://pbs.twimg.com/media/DUooBkVX4AUw-tI.jpg', 'indices': [110, 133], 'display_url': 'pic.twitter.com/dS8l83ANA6', 'media_url': 'http://pbs.twimg.com/media/DUooBkVX4AUw-tI.jpg', 'type': 'photo', 'id_str': '957621878167953413', 'sizes': {'small': {'h': 339, 'w': 671, 'resize': 'fit'}, 'large': {'h': 339, 'w': 671, 'resize': 'fit'}, 'thumb': {'h': 150, 'w': 150, 'resize': 'crop'}, 'medium': {'h': 339, 'w': 671, 'resize': 'fit'}}}], 'urls': [{'display_url': 'bit.ly/2CX95oE', 'indices': [86, 109], 'expanded_url': 'http://bit.ly/2CX95oE', 'url': 'https://t.co/SSNw7G0c4K'}], 'user_mentions': [], 'symbols': [], 'hashtags': []}, text=\"Don't forget! Registration has started for the 2018 NASW National Conference in June: https://t.co/SSNw7G0c4K https://t.co/dS8l83ANA6\", lang='en', source_url='http://www.hootsuite.com', truncated=False, place=None, user=User(listed_count=780, profile_text_color='333333', is_translator=False, profile_sidebar_fill_color='F2FAFA', verified=False, created_at=datetime.datetime(2008, 12, 4, 15, 4, 29), protected=False, friends_count=3933, favourites_count=3176, followers_count=40647, profile_background_tile=False, screen_name='nasw', utc_offset=-18000, default_profile=False, name='NASW', profile_background_image_url_https='https://pbs.twimg.com/profile_background_images/99022819/back3.jpg', profile_use_background_image=True, lang='en', id=17869267, url='http://t.co/56js65G1pZ', follow_request_sent=False, profile_image_url='http://pbs.twimg.com/profile_images/620676467899305984/Zi55Nqn__normal.jpg', is_translation_enabled=False, following=False, notifications=False, profile_link_color='175454', location='Washington, DC', _json={'listed_count': 780, 'notifications': False, 'profile_text_color': '333333', 'is_translator': False, 'profile_sidebar_fill_color': 'F2FAFA', 'profile_link_color': '175454', 'verified': False, 'created_at': 'Thu Dec 04 15:04:29 +0000 2008', 'protected': False, 'has_extended_profile': False, 'friends_count': 3933, 'favourites_count': 3176, 'followers_count': 40647, 'following': False, 'contributors_enabled': False, 'time_zone': 'Eastern Time (US & Canada)', 'translator_type': 'none', 'screen_name': 'nasw', 'utc_offset': -18000, 'default_profile': False, 'location': 'Washington, DC', 'name': 'NASW', 'profile_background_tile': False, 'profile_background_image_url_https': 'https://pbs.twimg.com/profile_background_images/99022819/back3.jpg', 'follow_request_sent': False, 'description': \"NASW's Official Twitter Feed - National Association of Social Workers, National Office, Washington DC\", 'profile_image_url_https': 'https://pbs.twimg.com/profile_images/620676467899305984/Zi55Nqn__normal.jpg', 'profile_banner_url': 'https://pbs.twimg.com/profile_banners/17869267/1436879565', 'id_str': '17869267', 'entities': {'url': {'urls': [{'display_url': 'socialworkers.org', 'indices': [0, 22], 'expanded_url': 'http://www.socialworkers.org', 'url': 'http://t.co/56js65G1pZ'}]}, 'description': {'urls': []}}, 'profile_background_image_url': 'http://pbs.twimg.com/profile_background_images/99022819/back3.jpg', 'lang': 'en', 'id': 17869267, 'url': 'http://t.co/56js65G1pZ', 'profile_background_color': '53ACB8', 'default_profile_image': False, 'profile_image_url': 'http://pbs.twimg.com/profile_images/620676467899305984/Zi55Nqn__normal.jpg', 'profile_use_background_image': True, 'is_translation_enabled': False, 'profile_sidebar_border_color': 'EEEEEE', 'geo_enabled': False, 'statuses_count': 7534}, contributors_enabled=False, _api=<tweepy.api.API object at 0x7fb88ce96908>, translator_type='none', profile_image_url_https='https://pbs.twimg.com/profile_images/620676467899305984/Zi55Nqn__normal.jpg', profile_banner_url='https://pbs.twimg.com/profile_banners/17869267/1436879565', description=\"NASW's Official Twitter Feed - National Association of Social Workers, National Office, Washington DC\", id_str='17869267', entities={'url': {'urls': [{'display_url': 'socialworkers.org', 'indices': [0, 22], 'expanded_url': 'http://www.socialworkers.org', 'url': 'http://t.co/56js65G1pZ'}]}, 'description': {'urls': []}}, profile_background_image_url='http://pbs.twimg.com/profile_background_images/99022819/back3.jpg', time_zone='Eastern Time (US & Canada)', statuses_count=7534, profile_background_color='53ACB8', default_profile_image=False, profile_sidebar_border_color='EEEEEE', geo_enabled=False, has_extended_profile=False), in_reply_to_status_id_str=None, favorite_count=14, in_reply_to_status_id=None, author=User(listed_count=780, profile_text_color='333333', is_translator=False, profile_sidebar_fill_color='F2FAFA', verified=False, created_at=datetime.datetime(2008, 12, 4, 15, 4, 29), protected=False, friends_count=3933, favourites_count=3176, followers_count=40647, profile_background_tile=False, screen_name='nasw', utc_offset=-18000, default_profile=False, name='NASW', profile_background_image_url_https='https://pbs.twimg.com/profile_background_images/99022819/back3.jpg', profile_use_background_image=True, lang='en', id=17869267, url='http://t.co/56js65G1pZ', follow_request_sent=False, profile_image_url='http://pbs.twimg.com/profile_images/620676467899305984/Zi55Nqn__normal.jpg', is_translation_enabled=False, following=False, notifications=False, profile_link_color='175454', location='Washington, DC', _json={'listed_count': 780, 'notifications': False, 'profile_text_color': '333333', 'is_translator': False, 'profile_sidebar_fill_color': 'F2FAFA', 'profile_link_color': '175454', 'verified': False, 'created_at': 'Thu Dec 04 15:04:29 +0000 2008', 'protected': False, 'has_extended_profile': False, 'friends_count': 3933, 'favourites_count': 3176, 'followers_count': 40647, 'following': False, 'contributors_enabled': False, 'time_zone': 'Eastern Time (US & Canada)', 'translator_type': 'none', 'screen_name': 'nasw', 'utc_offset': -18000, 'default_profile': False, 'location': 'Washington, DC', 'name': 'NASW', 'profile_background_tile': False, 'profile_background_image_url_https': 'https://pbs.twimg.com/profile_background_images/99022819/back3.jpg', 'follow_request_sent': False, 'description': \"NASW's Official Twitter Feed - National Association of Social Workers, National Office, Washington DC\", 'profile_image_url_https': 'https://pbs.twimg.com/profile_images/620676467899305984/Zi55Nqn__normal.jpg', 'profile_banner_url': 'https://pbs.twimg.com/profile_banners/17869267/1436879565', 'id_str': '17869267', 'entities': {'url': {'urls': [{'display_url': 'socialworkers.org', 'indices': [0, 22], 'expanded_url': 'http://www.socialworkers.org', 'url': 'http://t.co/56js65G1pZ'}]}, 'description': {'urls': []}}, 'profile_background_image_url': 'http://pbs.twimg.com/profile_background_images/99022819/back3.jpg', 'lang': 'en', 'id': 17869267, 'url': 'http://t.co/56js65G1pZ', 'profile_background_color': '53ACB8', 'default_profile_image': False, 'profile_image_url': 'http://pbs.twimg.com/profile_images/620676467899305984/Zi55Nqn__normal.jpg', 'profile_use_background_image': True, 'is_translation_enabled': False, 'profile_sidebar_border_color': 'EEEEEE', 'geo_enabled': False, 'statuses_count': 7534}, contributors_enabled=False, _api=<tweepy.api.API object at 0x7fb88ce96908>, translator_type='none', profile_image_url_https='https://pbs.twimg.com/profile_images/620676467899305984/Zi55Nqn__normal.jpg', profile_banner_url='https://pbs.twimg.com/profile_banners/17869267/1436879565', description=\"NASW's Official Twitter Feed - National Association of Social Workers, National Office, Washington DC\", id_str='17869267', entities={'url': {'urls': [{'display_url': 'socialworkers.org', 'indices': [0, 22], 'expanded_url': 'http://www.socialworkers.org', 'url': 'http://t.co/56js65G1pZ'}]}, 'description': {'urls': []}}, profile_background_image_url='http://pbs.twimg.com/profile_background_images/99022819/back3.jpg', time_zone='Eastern Time (US & Canada)', statuses_count=7534, profile_background_color='53ACB8', default_profile_image=False, profile_sidebar_border_color='EEEEEE', geo_enabled=False, has_extended_profile=False), contributors=None, retweeted=False)\n"
     ]
    }
   ],
   "source": [
    "res = api.get_user('nasw')\n",
    "for tweet in tweepy.Cursor(api.user_timeline, id=res.id).items(1):\n",
    "    print(tweet)"
   ]
  },
  {
   "cell_type": "code",
   "execution_count": 9,
   "metadata": {},
   "outputs": [
    {
     "data": {
      "text/plain": [
       "datetime.date(2018, 1, 28)"
      ]
     },
     "execution_count": 9,
     "metadata": {},
     "output_type": "execute_result"
    }
   ],
   "source": [
    "tweet.created_at.date()"
   ]
  },
  {
   "cell_type": "code",
   "execution_count": 11,
   "metadata": {},
   "outputs": [],
   "source": [
    "G = nx.DiGraph()\n",
    "G.add_nodes_from([1, 2])"
   ]
  },
  {
   "cell_type": "code",
   "execution_count": 23,
   "metadata": {},
   "outputs": [],
   "source": [
    "G.add_edge(1, 2, date=tweet.created_at.date().strftime('%m/%d/%Y'))"
   ]
  },
  {
   "cell_type": "code",
   "execution_count": 24,
   "metadata": {},
   "outputs": [
    {
     "data": {
      "text/plain": [
       "OutEdgeDataView([(1, 2, {'date': '01/28/2018'})])"
      ]
     },
     "execution_count": 24,
     "metadata": {},
     "output_type": "execute_result"
    }
   ],
   "source": [
    "G.edges(data=True)"
   ]
  },
  {
   "cell_type": "code",
   "execution_count": 25,
   "metadata": {},
   "outputs": [],
   "source": [
    "saveGraph(G, 'sampleGraph.json')\n",
    "# stringTime = tweet.created_at.date().strftime('%m/%d/%Y')"
   ]
  },
  {
   "cell_type": "code",
   "execution_count": 22,
   "metadata": {},
   "outputs": [
    {
     "data": {
      "text/plain": [
       "datetime.date(2018, 1, 28)"
      ]
     },
     "execution_count": 22,
     "metadata": {},
     "output_type": "execute_result"
    }
   ],
   "source": [
    "datetime.strptime(stringTime, '%m/%d/%Y').date()"
   ]
  },
  {
   "cell_type": "code",
   "execution_count": 27,
   "metadata": {},
   "outputs": [
    {
     "name": "stderr",
     "output_type": "stream",
     "text": [
      "Process ForkPoolWorker-9:\n",
      "Process ForkPoolWorker-10:\n",
      "Process ForkPoolWorker-11:\n",
      "Process ForkPoolWorker-6:\n",
      "Process ForkPoolWorker-12:\n",
      "Process ForkPoolWorker-14:\n",
      "Process ForkPoolWorker-13:\n",
      "Process ForkPoolWorker-8:\n",
      "Process ForkPoolWorker-3:\n",
      "Process ForkPoolWorker-1:\n",
      "Process ForkPoolWorker-4:\n",
      "Process ForkPoolWorker-19:\n",
      "Process ForkPoolWorker-7:\n",
      "Process ForkPoolWorker-2:\n",
      "Process ForkPoolWorker-20:\n",
      "Process ForkPoolWorker-17:\n",
      "Process ForkPoolWorker-5:\n",
      "Process ForkPoolWorker-16:\n",
      "Process ForkPoolWorker-15:\n",
      "Process ForkPoolWorker-18:\n",
      "Traceback (most recent call last):\n",
      "Traceback (most recent call last):\n",
      "Traceback (most recent call last):\n",
      "Traceback (most recent call last):\n",
      "Traceback (most recent call last):\n",
      "Traceback (most recent call last):\n",
      "Traceback (most recent call last):\n",
      "Traceback (most recent call last):\n",
      "Traceback (most recent call last):\n",
      "  File \"/usr/lib/python3.5/multiprocessing/process.py\", line 249, in _bootstrap\n",
      "    self.run()\n",
      "  File \"/usr/lib/python3.5/multiprocessing/process.py\", line 249, in _bootstrap\n",
      "    self.run()\n",
      "Traceback (most recent call last):\n",
      "  File \"/usr/lib/python3.5/multiprocessing/process.py\", line 249, in _bootstrap\n",
      "    self.run()\n",
      "Traceback (most recent call last):\n",
      "  File \"/usr/lib/python3.5/multiprocessing/process.py\", line 249, in _bootstrap\n",
      "    self.run()\n",
      "  File \"/usr/lib/python3.5/multiprocessing/process.py\", line 249, in _bootstrap\n",
      "    self.run()\n",
      "  File \"/usr/lib/python3.5/multiprocessing/process.py\", line 249, in _bootstrap\n",
      "    self.run()\n",
      "Traceback (most recent call last):\n",
      "Traceback (most recent call last):\n",
      "Traceback (most recent call last):\n",
      "Traceback (most recent call last):\n",
      "  File \"/usr/lib/python3.5/multiprocessing/process.py\", line 249, in _bootstrap\n",
      "    self.run()\n",
      "  File \"/usr/lib/python3.5/multiprocessing/process.py\", line 249, in _bootstrap\n",
      "    self.run()\n",
      "  File \"/usr/lib/python3.5/multiprocessing/process.py\", line 93, in run\n",
      "    self._target(*self._args, **self._kwargs)\n",
      "Traceback (most recent call last):\n",
      "  File \"/usr/lib/python3.5/multiprocessing/process.py\", line 249, in _bootstrap\n",
      "    self.run()\n",
      "Traceback (most recent call last):\n",
      "Traceback (most recent call last):\n",
      "  File \"/usr/lib/python3.5/multiprocessing/process.py\", line 93, in run\n",
      "    self._target(*self._args, **self._kwargs)\n",
      "  File \"/usr/lib/python3.5/multiprocessing/process.py\", line 93, in run\n",
      "    self._target(*self._args, **self._kwargs)\n",
      "  File \"/usr/lib/python3.5/multiprocessing/process.py\", line 93, in run\n",
      "    self._target(*self._args, **self._kwargs)\n",
      "  File \"/usr/lib/python3.5/multiprocessing/process.py\", line 93, in run\n",
      "    self._target(*self._args, **self._kwargs)\n",
      "Traceback (most recent call last):\n",
      "  File \"/usr/lib/python3.5/multiprocessing/process.py\", line 249, in _bootstrap\n",
      "    self.run()\n",
      "  File \"/usr/lib/python3.5/multiprocessing/process.py\", line 249, in _bootstrap\n",
      "    self.run()\n",
      "Traceback (most recent call last):\n",
      "  File \"/usr/lib/python3.5/multiprocessing/process.py\", line 249, in _bootstrap\n",
      "    self.run()\n",
      "  File \"/usr/lib/python3.5/multiprocessing/process.py\", line 93, in run\n",
      "    self._target(*self._args, **self._kwargs)\n",
      "  File \"/usr/lib/python3.5/multiprocessing/process.py\", line 249, in _bootstrap\n",
      "    self.run()\n",
      "  File \"/usr/lib/python3.5/multiprocessing/process.py\", line 93, in run\n",
      "    self._target(*self._args, **self._kwargs)\n",
      "  File \"/usr/lib/python3.5/multiprocessing/process.py\", line 249, in _bootstrap\n",
      "    self.run()\n",
      "  File \"/usr/lib/python3.5/multiprocessing/pool.py\", line 108, in worker\n",
      "    task = get()\n",
      "  File \"/usr/lib/python3.5/multiprocessing/process.py\", line 249, in _bootstrap\n",
      "    self.run()\n",
      "  File \"/usr/lib/python3.5/multiprocessing/process.py\", line 249, in _bootstrap\n",
      "    self.run()\n",
      "  File \"/usr/lib/python3.5/multiprocessing/process.py\", line 93, in run\n",
      "    self._target(*self._args, **self._kwargs)\n",
      "  File \"/usr/lib/python3.5/multiprocessing/process.py\", line 249, in _bootstrap\n",
      "    self.run()\n",
      "  File \"/usr/lib/python3.5/multiprocessing/process.py\", line 93, in run\n",
      "    self._target(*self._args, **self._kwargs)\n",
      "  File \"/usr/lib/python3.5/multiprocessing/process.py\", line 93, in run\n",
      "    self._target(*self._args, **self._kwargs)\n",
      "  File \"/usr/lib/python3.5/multiprocessing/process.py\", line 249, in _bootstrap\n",
      "    self.run()\n",
      "  File \"/usr/lib/python3.5/multiprocessing/pool.py\", line 108, in worker\n",
      "    task = get()\n",
      "  File \"/usr/lib/python3.5/multiprocessing/process.py\", line 249, in _bootstrap\n",
      "    self.run()\n",
      "  File \"/usr/lib/python3.5/multiprocessing/process.py\", line 93, in run\n",
      "    self._target(*self._args, **self._kwargs)\n",
      "  File \"/usr/lib/python3.5/multiprocessing/process.py\", line 249, in _bootstrap\n",
      "    self.run()\n",
      "  File \"/usr/lib/python3.5/multiprocessing/pool.py\", line 108, in worker\n",
      "    task = get()\n",
      "  File \"/usr/lib/python3.5/multiprocessing/pool.py\", line 108, in worker\n",
      "    task = get()\n",
      "  File \"/usr/lib/python3.5/multiprocessing/pool.py\", line 108, in worker\n",
      "    task = get()\n",
      "  File \"/usr/lib/python3.5/multiprocessing/queues.py\", line 343, in get\n",
      "    res = self._reader.recv_bytes()\n",
      "  File \"/usr/lib/python3.5/multiprocessing/process.py\", line 93, in run\n",
      "    self._target(*self._args, **self._kwargs)\n",
      "  File \"/usr/lib/python3.5/multiprocessing/process.py\", line 93, in run\n",
      "    self._target(*self._args, **self._kwargs)\n",
      "  File \"/usr/lib/python3.5/multiprocessing/process.py\", line 93, in run\n",
      "    self._target(*self._args, **self._kwargs)\n",
      "  File \"/usr/lib/python3.5/multiprocessing/pool.py\", line 108, in worker\n",
      "    task = get()\n",
      "  File \"/usr/lib/python3.5/multiprocessing/pool.py\", line 108, in worker\n",
      "    task = get()\n",
      "  File \"/usr/lib/python3.5/multiprocessing/process.py\", line 93, in run\n",
      "    self._target(*self._args, **self._kwargs)\n",
      "  File \"/usr/lib/python3.5/multiprocessing/process.py\", line 93, in run\n",
      "    self._target(*self._args, **self._kwargs)\n",
      "  File \"/usr/lib/python3.5/multiprocessing/process.py\", line 93, in run\n",
      "    self._target(*self._args, **self._kwargs)\n",
      "  File \"/usr/lib/python3.5/multiprocessing/pool.py\", line 108, in worker\n",
      "    task = get()\n",
      "  File \"/usr/lib/python3.5/multiprocessing/queues.py\", line 342, in get\n",
      "    with self._rlock:\n",
      "  File \"/usr/lib/python3.5/multiprocessing/process.py\", line 93, in run\n",
      "    self._target(*self._args, **self._kwargs)\n",
      "  File \"/usr/lib/python3.5/multiprocessing/connection.py\", line 216, in recv_bytes\n",
      "    buf = self._recv_bytes(maxlength)\n",
      "  File \"/usr/lib/python3.5/multiprocessing/pool.py\", line 108, in worker\n",
      "    task = get()\n",
      "  File \"/usr/lib/python3.5/multiprocessing/pool.py\", line 108, in worker\n",
      "    task = get()\n",
      "  File \"/usr/lib/python3.5/multiprocessing/queues.py\", line 342, in get\n",
      "    with self._rlock:\n",
      "  File \"/usr/lib/python3.5/multiprocessing/pool.py\", line 108, in worker\n",
      "    task = get()\n",
      "  File \"/usr/lib/python3.5/multiprocessing/process.py\", line 93, in run\n",
      "    self._target(*self._args, **self._kwargs)\n",
      "  File \"/usr/lib/python3.5/multiprocessing/pool.py\", line 108, in worker\n",
      "    task = get()\n",
      "  File \"/usr/lib/python3.5/multiprocessing/queues.py\", line 342, in get\n",
      "    with self._rlock:\n",
      "  File \"/usr/lib/python3.5/multiprocessing/pool.py\", line 108, in worker\n",
      "    task = get()\n",
      "  File \"/usr/lib/python3.5/multiprocessing/queues.py\", line 342, in get\n",
      "    with self._rlock:\n",
      "  File \"/usr/lib/python3.5/multiprocessing/pool.py\", line 108, in worker\n",
      "    task = get()\n",
      "  File \"/usr/lib/python3.5/multiprocessing/queues.py\", line 342, in get\n",
      "    with self._rlock:\n",
      "  File \"/usr/lib/python3.5/multiprocessing/pool.py\", line 108, in worker\n",
      "    task = get()\n",
      "  File \"/usr/lib/python3.5/multiprocessing/queues.py\", line 342, in get\n",
      "    with self._rlock:\n",
      "  File \"/usr/lib/python3.5/multiprocessing/connection.py\", line 407, in _recv_bytes\n",
      "    buf = self._recv(4)\n",
      "  File \"/usr/lib/python3.5/multiprocessing/process.py\", line 93, in run\n",
      "    self._target(*self._args, **self._kwargs)\n",
      "  File \"/usr/lib/python3.5/multiprocessing/pool.py\", line 108, in worker\n",
      "    task = get()\n",
      "  File \"/usr/lib/python3.5/multiprocessing/synchronize.py\", line 96, in __enter__\n",
      "    return self._semlock.__enter__()\n",
      "  File \"/usr/lib/python3.5/multiprocessing/synchronize.py\", line 96, in __enter__\n",
      "    return self._semlock.__enter__()\n",
      "  File \"/usr/lib/python3.5/multiprocessing/synchronize.py\", line 96, in __enter__\n",
      "    return self._semlock.__enter__()\n",
      "  File \"/usr/lib/python3.5/multiprocessing/queues.py\", line 342, in get\n",
      "    with self._rlock:\n"
     ]
    },
    {
     "name": "stderr",
     "output_type": "stream",
     "text": [
      "  File \"/usr/lib/python3.5/multiprocessing/queues.py\", line 342, in get\n",
      "    with self._rlock:\n",
      "  File \"/usr/lib/python3.5/multiprocessing/queues.py\", line 342, in get\n",
      "    with self._rlock:\n",
      "  File \"/usr/lib/python3.5/multiprocessing/pool.py\", line 108, in worker\n",
      "    task = get()\n",
      "  File \"/usr/lib/python3.5/multiprocessing/connection.py\", line 379, in _recv\n",
      "    chunk = read(handle, remaining)\n",
      "  File \"/usr/lib/python3.5/multiprocessing/queues.py\", line 342, in get\n",
      "    with self._rlock:\n",
      "  File \"/usr/lib/python3.5/multiprocessing/pool.py\", line 108, in worker\n",
      "    task = get()\n",
      "  File \"/usr/lib/python3.5/multiprocessing/synchronize.py\", line 96, in __enter__\n",
      "    return self._semlock.__enter__()\n",
      "KeyboardInterrupt\n",
      "  File \"/usr/lib/python3.5/multiprocessing/queues.py\", line 342, in get\n",
      "    with self._rlock:\n",
      "  File \"/usr/lib/python3.5/multiprocessing/pool.py\", line 108, in worker\n",
      "    task = get()\n",
      "  File \"/usr/lib/python3.5/multiprocessing/queues.py\", line 342, in get\n",
      "    with self._rlock:\n",
      "  File \"/usr/lib/python3.5/multiprocessing/synchronize.py\", line 96, in __enter__\n",
      "    return self._semlock.__enter__()\n",
      "  File \"/usr/lib/python3.5/multiprocessing/synchronize.py\", line 96, in __enter__\n",
      "    return self._semlock.__enter__()\n",
      "  File \"/usr/lib/python3.5/multiprocessing/queues.py\", line 342, in get\n",
      "    with self._rlock:\n",
      "KeyboardInterrupt\n",
      "  File \"/usr/lib/python3.5/multiprocessing/queues.py\", line 342, in get\n",
      "    with self._rlock:\n",
      "  File \"/usr/lib/python3.5/multiprocessing/synchronize.py\", line 96, in __enter__\n",
      "    return self._semlock.__enter__()\n",
      "KeyboardInterrupt\n",
      "  File \"/usr/lib/python3.5/multiprocessing/synchronize.py\", line 96, in __enter__\n",
      "    return self._semlock.__enter__()\n",
      "  File \"/usr/lib/python3.5/multiprocessing/synchronize.py\", line 96, in __enter__\n",
      "    return self._semlock.__enter__()\n",
      "  File \"/usr/lib/python3.5/multiprocessing/queues.py\", line 342, in get\n",
      "    with self._rlock:\n",
      "  File \"/usr/lib/python3.5/multiprocessing/synchronize.py\", line 96, in __enter__\n",
      "    return self._semlock.__enter__()\n",
      "KeyboardInterrupt\n",
      "  File \"/usr/lib/python3.5/multiprocessing/pool.py\", line 108, in worker\n",
      "    task = get()\n",
      "  File \"/usr/lib/python3.5/multiprocessing/queues.py\", line 342, in get\n",
      "    with self._rlock:\n",
      "  File \"/usr/lib/python3.5/multiprocessing/queues.py\", line 342, in get\n",
      "    with self._rlock:\n",
      "  File \"/usr/lib/python3.5/multiprocessing/synchronize.py\", line 96, in __enter__\n",
      "    return self._semlock.__enter__()\n",
      "  File \"/usr/lib/python3.5/multiprocessing/synchronize.py\", line 96, in __enter__\n",
      "    return self._semlock.__enter__()\n",
      "KeyboardInterrupt\n",
      "KeyboardInterrupt\n",
      "  File \"/usr/lib/python3.5/multiprocessing/synchronize.py\", line 96, in __enter__\n",
      "    return self._semlock.__enter__()\n",
      "KeyboardInterrupt\n",
      "KeyboardInterrupt\n",
      "  File \"/usr/lib/python3.5/multiprocessing/queues.py\", line 342, in get\n",
      "    with self._rlock:\n",
      "  File \"/usr/lib/python3.5/multiprocessing/synchronize.py\", line 96, in __enter__\n",
      "    return self._semlock.__enter__()\n",
      "KeyboardInterrupt\n",
      "  File \"/usr/lib/python3.5/multiprocessing/synchronize.py\", line 96, in __enter__\n",
      "    return self._semlock.__enter__()\n",
      "KeyboardInterrupt\n",
      "  File \"/usr/lib/python3.5/multiprocessing/synchronize.py\", line 96, in __enter__\n",
      "    return self._semlock.__enter__()\n",
      "  File \"/usr/lib/python3.5/multiprocessing/synchronize.py\", line 96, in __enter__\n",
      "    return self._semlock.__enter__()\n",
      "KeyboardInterrupt\n",
      "KeyboardInterrupt\n",
      "KeyboardInterrupt\n",
      "  File \"/usr/lib/python3.5/multiprocessing/queues.py\", line 342, in get\n",
      "    with self._rlock:\n",
      "KeyboardInterrupt\n",
      "KeyboardInterrupt\n",
      "  File \"/usr/lib/python3.5/multiprocessing/synchronize.py\", line 96, in __enter__\n",
      "    return self._semlock.__enter__()\n",
      "KeyboardInterrupt\n",
      "KeyboardInterrupt\n",
      "KeyboardInterrupt\n",
      "  File \"/usr/lib/python3.5/multiprocessing/synchronize.py\", line 96, in __enter__\n",
      "    return self._semlock.__enter__()\n",
      "KeyboardInterrupt\n",
      "KeyboardInterrupt\n"
     ]
    }
   ],
   "source": [
    "list_tweets = query_tweets(\"@nasw\", 1000)"
   ]
  },
  {
   "cell_type": "code",
   "execution_count": 42,
   "metadata": {},
   "outputs": [
    {
     "data": {
      "text/plain": [
       "135"
      ]
     },
     "execution_count": 42,
     "metadata": {},
     "output_type": "execute_result"
    }
   ],
   "source": [
    "final_tweets = []\n",
    "for tweet in list_tweets:\n",
    "    if tweet.user == 'nasw':\n",
    "        final_tweets.append(tweet.text)\n",
    "len(final_tweets)"
   ]
  },
  {
   "cell_type": "code",
   "execution_count": 3,
   "metadata": {},
   "outputs": [],
   "source": [
    "def fetchMentions(screen_name, max_tweets=1000):\n",
    "    list_tweets = query_tweets(screen_name, max_tweets)\n",
    "    dates = [tweet.timestamp.date().strftime('%d/%m/%Y') for tweet in list_tweets if tweet.user != screen_name]\n",
    "    unique_dates = list(set(dates))\n",
    "    unique_dates = [datetime.strptime(unique_date, '%d/%m/%Y').date() for unique_date in unique_dates]\n",
    "    unique_dates.sort()\n",
    "    unique_dates = [date.strftime('%d/%m/%Y') for date in unique_dates]\n",
    "    mention_order = []\n",
    "    for unique_date in unique_dates:\n",
    "        mention_order.append(dates.count(unique_date))\n",
    "    return mention_order"
   ]
  },
  {
   "cell_type": "code",
   "execution_count": 4,
   "metadata": {},
   "outputs": [],
   "source": [
    "result = fetchMentions(\"nasw\", 1000)"
   ]
  },
  {
   "cell_type": "code",
   "execution_count": 13,
   "metadata": {},
   "outputs": [
    {
     "data": {
      "text/plain": [
       "[19,\n",
       " 38,\n",
       " 27,\n",
       " 31,\n",
       " 53,\n",
       " 55,\n",
       " 11,\n",
       " 14,\n",
       " 31,\n",
       " 9,\n",
       " 22,\n",
       " 29,\n",
       " 17,\n",
       " 25,\n",
       " 12,\n",
       " 3,\n",
       " 11,\n",
       " 30,\n",
       " 14,\n",
       " 28,\n",
       " 28,\n",
       " 24,\n",
       " 33,\n",
       " 15,\n",
       " 41,\n",
       " 2,\n",
       " 22,\n",
       " 34,\n",
       " 25,\n",
       " 31,\n",
       " 37,\n",
       " 22,\n",
       " 6,\n",
       " 45,\n",
       " 3,\n",
       " 55,\n",
       " 15,\n",
       " 36,\n",
       " 60,\n",
       " 14,\n",
       " 46,\n",
       " 1,\n",
       " 20,\n",
       " 34]"
      ]
     },
     "execution_count": 13,
     "metadata": {},
     "output_type": "execute_result"
    }
   ],
   "source": [
    "result"
   ]
  },
  {
   "cell_type": "code",
   "execution_count": 34,
   "metadata": {},
   "outputs": [],
   "source": [
    "def getIncreasingSplit(result):\n",
    "    series = []\n",
    "    maxEle = 0\n",
    "    initIndex = 0\n",
    "    for index, element in enumerate(result):\n",
    "        if maxEle >= element or element == 0 or index == (len(result) - 1):\n",
    "            series.append(result[initIndex:index])\n",
    "            initIndex = index\n",
    "        maxEle = element\n",
    "    return series\n",
    "\n",
    "def getDrRank(result):\n",
    "    result = getIncreasingSplit(result)\n",
    "    result = [elements for elements in result if len(elements) > 2]\n",
    "    ranks = []\n",
    "    for elements in result:\n",
    "        initIndex, endIndex = 0, -1\n",
    "        if elements[initIndex] == 1:\n",
    "            initIndex += 1\n",
    "        ranks.append(elements[endIndex]/elements[initIndex])\n",
    "    return max(ranks)\n",
    "            "
   ]
  },
  {
   "cell_type": "code",
   "execution_count": 35,
   "metadata": {},
   "outputs": [
    {
     "data": {
      "text/plain": [
       "17.0"
      ]
     },
     "execution_count": 35,
     "metadata": {},
     "output_type": "execute_result"
    }
   ],
   "source": [
    "getDrRank(result)"
   ]
  },
  {
   "cell_type": "code",
   "execution_count": null,
   "metadata": {},
   "outputs": [],
   "source": []
  }
 ],
 "metadata": {
  "kernelspec": {
   "display_name": "Python 3",
   "language": "python",
   "name": "python3"
  },
  "language_info": {
   "codemirror_mode": {
    "name": "ipython",
    "version": 3
   },
   "file_extension": ".py",
   "mimetype": "text/x-python",
   "name": "python",
   "nbconvert_exporter": "python",
   "pygments_lexer": "ipython3",
   "version": "3.5.2"
  }
 },
 "nbformat": 4,
 "nbformat_minor": 2
}
