{
 "cells": [
  {
   "cell_type": "code",
   "execution_count": 364,
   "metadata": {},
   "outputs": [],
   "source": [
    "import urllib3\n",
    "import re\n",
    "import html\n",
    "import codecs\n",
    "from bs4 import BeautifulSoup"
   ]
  },
  {
   "cell_type": "code",
   "execution_count": 336,
   "metadata": {},
   "outputs": [],
   "source": [
    "http = urllib3.PoolManager()"
   ]
  },
  {
   "cell_type": "code",
   "execution_count": 337,
   "metadata": {},
   "outputs": [],
   "source": [
    "sourceCode = http.request('GET', 'http://www.socialworkersspeak.org/category/expert/feed')"
   ]
  },
  {
   "cell_type": "code",
   "execution_count": 338,
   "metadata": {},
   "outputs": [],
   "source": [
    "sourceData = sourceCode.data.decode('utf-8')"
   ]
  },
  {
   "cell_type": "code",
   "execution_count": 339,
   "metadata": {},
   "outputs": [],
   "source": [
    "title = re.findall(r'<title>(.*?)</title>', sourceData)\n",
    "links = re.findall(r'<link>(.*?)</link>',sourceData)"
   ]
  },
  {
   "cell_type": "code",
   "execution_count": 340,
   "metadata": {},
   "outputs": [
    {
     "data": {
      "text/plain": [
       "['http://www.socialworkersspeak.org',\n",
       " 'http://www.socialworkersspeak.org/expert/someone-to-talk-to-upon-returning-from-war.html',\n",
       " 'http://www.socialworkersspeak.org/expert/from-social-worker-to-foster-parent-and-back.html',\n",
       " 'http://www.socialworkersspeak.org/expert/understand-your-relationship-with-money-to-improve-finances.html',\n",
       " 'http://www.socialworkersspeak.org/expert/what-does-a-sex-therapist-really-think.html',\n",
       " 'http://www.socialworkersspeak.org/expert/one-way-to-stop-mass-shootings-glorify-the-victims-not-the-shooter.html',\n",
       " 'http://www.socialworkersspeak.org/expert/social-work-going-corporate-this-social-work-professor-thinks-so.html',\n",
       " 'http://www.socialworkersspeak.org/expert/nasw-official-child-protection-work-difficult-job-that-is-minimized.html',\n",
       " 'http://www.socialworkersspeak.org/expert/nasw-ceo-angelo-mcclain-talks-about-ways-to-improve-social-worker-safety.html',\n",
       " 'http://www.socialworkersspeak.org/expert/dolezal-showed-lack-of-honesty-and-integrity.html',\n",
       " 'http://www.socialworkersspeak.org/expert/obamas-statement-on-banning-reparative-therapy-for-youth-good-first-step.html',\n",
       " 'http://www.socialworkersspeak.org/expert/nasw-expert-responds-to-south-carolina-police-shooting.html',\n",
       " 'http://www.socialworkersspeak.org/expert/nasw-expert-weight-reality-shows-based-on-shame.html',\n",
       " 'http://www.socialworkersspeak.org/expert/family-influences-whether-people-living-with-anorexia-recover.html',\n",
       " 'http://www.socialworkersspeak.org/expert/how-to-be-alone-on-the-holidays.html',\n",
       " 'http://www.socialworkersspeak.org/expert/spate-of-killings-are-a-reminder-home-is-not-safe.html',\n",
       " 'http://www.socialworkersspeak.org/expert/hope-for-people-suffering-from-complicated-grief.html',\n",
       " 'http://www.socialworkersspeak.org/expert/parents-should-be-wary-of-caregivers.html',\n",
       " 'http://www.socialworkersspeak.org/expert/reporter-writes-about-brush-with-animal-hoarder.html',\n",
       " 'http://www.socialworkersspeak.org/expert/10-things-your-psychologist-wont-tell-you.html',\n",
       " 'http://www.socialworkersspeak.org/expert/emotional-checklist-for-a-wedding.html']"
      ]
     },
     "execution_count": 340,
     "metadata": {},
     "output_type": "execute_result"
    }
   ],
   "source": [
    "links"
   ]
  },
  {
   "cell_type": "markdown",
   "metadata": {},
   "source": [
    "## Using BeautifulSoup"
   ]
  },
  {
   "cell_type": "code",
   "execution_count": 374,
   "metadata": {},
   "outputs": [],
   "source": [
    "links = ['http://www.socialworkersspeak.org/category/hollywood-connection/feed', \n",
    "        'http://www.socialworkersspeak.org/category/research/feed',\n",
    "        'http://www.socialworkersspeak.org/category/expert/feed']\n",
    "def extractData(link):\n",
    "    sourceCode = http.request('GET', 'http://www.socialworkersspeak.org/category/expert/feed')\n",
    "    sourceData = sourceCode.data.decode('utf-8')\n",
    "    return sourceData"
   ]
  },
  {
   "cell_type": "code",
   "execution_count": 375,
   "metadata": {},
   "outputs": [],
   "source": [
    "articles = \"\"\n",
    "for link in links:\n",
    "    sourceData = extractData(link)\n",
    "    soup = BeautifulSoup(sourceData, 'xml')\n",
    "    for item in soup.findAll('item'):\n",
    "        for child in item.encoded:\n",
    "            results = re.findall(r'<p.*?>(.*?)</p>', child.string)\n",
    "            results = [re.sub(r\"</?.*?>\",\"\",result) for result in results]\n",
    "            results.pop(0)\n",
    "            articles += html.unescape(\"\".join(results)) + '\\n'\n",
    "file = codecs.open(\"articles.txt\", 'w', 'utf-8')\n",
    "file.write(articles)\n",
    "file.close()"
   ]
  },
  {
   "cell_type": "code",
   "execution_count": 349,
   "metadata": {},
   "outputs": [
    {
     "data": {
      "text/plain": [
       "<html><body><div>a“b</div></body></html>"
      ]
     },
     "execution_count": 349,
     "metadata": {},
     "output_type": "execute_result"
    }
   ],
   "source": [
    "soup = BeautifulSoup('<div>a&#8220;b</div>', 'lxml')\n",
    "soup"
   ]
  },
  {
   "cell_type": "code",
   "execution_count": null,
   "metadata": {},
   "outputs": [],
   "source": []
  }
 ],
 "metadata": {
  "kernelspec": {
   "display_name": "Python 3",
   "language": "python",
   "name": "python3"
  },
  "language_info": {
   "codemirror_mode": {
    "name": "ipython",
    "version": 3
   },
   "file_extension": ".py",
   "mimetype": "text/x-python",
   "name": "python",
   "nbconvert_exporter": "python",
   "pygments_lexer": "ipython3",
   "version": "3.5.2"
  }
 },
 "nbformat": 4,
 "nbformat_minor": 2
}
