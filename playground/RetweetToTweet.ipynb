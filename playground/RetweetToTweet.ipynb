{
 "cells": [
  {
   "cell_type": "code",
   "execution_count": 1,
   "metadata": {},
   "outputs": [],
   "source": [
    "import tweepy\n",
    "import time\n",
    "import networkx as nx\n",
    "import pandas as pd\n",
    "import json\n",
    "import numpy as np\n",
    "import requests\n",
    "from bs4 import BeautifulSoup\n",
    "from nltk.tokenize import TweetTokenizer\n",
    "from datetime import datetime\n",
    "from networkx.readwrite import json_graph\n",
    "%matplotlib inline"
   ]
  },
  {
   "cell_type": "code",
   "execution_count": 2,
   "metadata": {},
   "outputs": [],
   "source": [
    "consumer_key = \"2e6dNamYAUwvPcLJ5YKn9ow6R\"\n",
    "consumer_secret = \"VFujaQNDkF6d7YKrTttJzMhCfNpFcYCnMyDSvjGssEvq4WYvnm\"\n",
    "access_token = \"939149568519815169-c6Lti1dhyk5Z8wmwymsrpvw1BtxVE0Z\"\n",
    "access_token_secret = \"IaQwQlN3yrkoZsB5nzi8Ha2AO1TseVdLcPJgltP6ljZiI\"   \n",
    "\n",
    "auth = tweepy.OAuthHandler(consumer_key, consumer_secret)\n",
    "auth.set_access_token(access_token, access_token_secret)\n",
    "api = tweepy.API(auth, wait_on_rate_limit=True, wait_on_rate_limit_notify=True)"
   ]
  },
  {
   "cell_type": "code",
   "execution_count": 17,
   "metadata": {},
   "outputs": [],
   "source": [
    "def constructGraph(screen_name, max_followers):\n",
    "    G = nx.DiGraph()\n",
    "    res = api.get_user(screen_name)\n",
    "    G.add_node(res.id, attr_dict = {'status_count': res.statuses_count, 'screen_name': res.screen_name})\n",
    "    for user in tweepy.Cursor(api.followers, id=res.id).items(max_followers):\n",
    "        G.add_node(user.id, attr_dict = {'status_count': user.statuses_count, 'screen_name': user.screen_name})\n",
    "        G.add_edge(user.id, res.id, retweets=0)\n",
    "    return G\n",
    "    "
   ]
  },
  {
   "cell_type": "code",
   "execution_count": 18,
   "metadata": {},
   "outputs": [
    {
     "name": "stdout",
     "output_type": "stream",
     "text": [
      "Rate limit reached. Sleeping for: 418\n"
     ]
    }
   ],
   "source": [
    "G = constructGraph('nasw', 150)"
   ]
  },
  {
   "cell_type": "code",
   "execution_count": 19,
   "metadata": {},
   "outputs": [],
   "source": [
    "def saveGraph(G, filename):\n",
    "    data = json_graph.node_link_data(G)\n",
    "    json_data = json.dumps(data)\n",
    "    with open(filename, 'w') as file:\n",
    "        file.write(json_data)\n",
    "        \n",
    "def loadGraph(filename):        \n",
    "    with open(filename, 'r') as file:\n",
    "        json_data = file.read()\n",
    "        data2 = json.loads(json_data)\n",
    "    G = json_graph.node_link_graph(data2)\n",
    "    return G"
   ]
  },
  {
   "cell_type": "code",
   "execution_count": 20,
   "metadata": {},
   "outputs": [],
   "source": [
    "saveGraph(G, 'retweetGraph.json')"
   ]
  },
  {
   "cell_type": "code",
   "execution_count": 69,
   "metadata": {},
   "outputs": [],
   "source": [
    "def fetchRatio(G, screen_name, max_tweets, max_retweets):\n",
    "    for edge in G.edges():\n",
    "        G[edge[0]][edge[1]]['retweets'] = 0\n",
    "    res = api.get_user(screen_name)    \n",
    "    for tweet in tweepy.Cursor(api.user_timeline, id=res.id).items(max_tweets):\n",
    "        retweets = api.retweets(id=tweet.id, count=max_retweets)\n",
    "        for retweet in retweets:\n",
    "            retweet_id = retweet.user.id\n",
    "            if retweet_id in G:\n",
    "                G.add_edge(retweet_id, res.id, retweets=G[retweet_id][res.id]['retweets'] + 1)\n",
    "    for node in G.nodes():\n",
    "        if res.id != node:\n",
    "            G.add_edge(node, res.id,ratio = (G[node][res.id]['retweets'] / max_tweets))\n",
    "    return G"
   ]
  },
  {
   "cell_type": "code",
   "execution_count": 22,
   "metadata": {},
   "outputs": [
    {
     "name": "stdout",
     "output_type": "stream",
     "text": [
      "Rate limit reached. Sleeping for: 797\n"
     ]
    }
   ],
   "source": [
    "G = fetchRatio(G, 'nasw', 100, 100)"
   ]
  },
  {
   "cell_type": "code",
   "execution_count": 27,
   "metadata": {},
   "outputs": [],
   "source": [
    "res = api.get_user(\"Shalisa_Renee\")"
   ]
  },
  {
   "cell_type": "code",
   "execution_count": 29,
   "metadata": {},
   "outputs": [],
   "source": [
    "G.add_node(res.id, attr_dict = {'status_count': res.statuses_count, 'screen_name': res.screen_name})"
   ]
  },
  {
   "cell_type": "code",
   "execution_count": 36,
   "metadata": {},
   "outputs": [],
   "source": [
    "G.add_edge(res.id, 17869267, retweets=0)"
   ]
  },
  {
   "cell_type": "code",
   "execution_count": 70,
   "metadata": {},
   "outputs": [],
   "source": [
    "G = fetchRatio(G, 'nasw', 3, 50)"
   ]
  },
  {
   "cell_type": "code",
   "execution_count": 72,
   "metadata": {},
   "outputs": [],
   "source": [
    "saveGraph(G, 'retweetGraph.json')"
   ]
  },
  {
   "cell_type": "code",
   "execution_count": 73,
   "metadata": {},
   "outputs": [],
   "source": [
    "G = loadGraph('retweetGraph.json')"
   ]
  },
  {
   "cell_type": "code",
   "execution_count": 77,
   "metadata": {},
   "outputs": [
    {
     "name": "stdout",
     "output_type": "stream",
     "text": [
      "0.006622516556291391\n"
     ]
    }
   ],
   "source": [
    "sum = 0\n",
    "for edge in G.edges():\n",
    "    sum += G[edge[0]][edge[1]]['ratio']\n",
    "print(sum / len(G.edges()))"
   ]
  },
  {
   "cell_type": "code",
   "execution_count": null,
   "metadata": {},
   "outputs": [],
   "source": []
  }
 ],
 "metadata": {
  "kernelspec": {
   "display_name": "Python 3",
   "language": "python",
   "name": "python3"
  },
  "language_info": {
   "codemirror_mode": {
    "name": "ipython",
    "version": 3
   },
   "file_extension": ".py",
   "mimetype": "text/x-python",
   "name": "python",
   "nbconvert_exporter": "python",
   "pygments_lexer": "ipython3",
   "version": "3.5.2"
  }
 },
 "nbformat": 4,
 "nbformat_minor": 2
}
